{
 "cells": [
  {
   "cell_type": "markdown",
   "id": "3615fc43",
   "metadata": {},
   "source": [
    "# Tahap Pre Processing"
   ]
  },
  {
   "cell_type": "code",
   "execution_count": 97,
   "id": "a3b833bb-a093-4ddb-a5a4-7798846c04da",
   "metadata": {},
   "outputs": [],
   "source": [
    "# numpy, pandas, min max scaler, train test split, sequential, dense, dropout, accuracy\n",
    "import numpy as np\n",
    "import pandas as pd\n",
    "from sklearn.preprocessing import MinMaxScaler\n",
    "from sklearn.model_selection import train_test_split\n",
    "from tensorflow.keras.models import Sequential\n",
    "from tensorflow.keras.layers import Dense, Dropout\n",
    "from sklearn.metrics import confusion_matrix, accuracy_score"
   ]
  },
  {
   "cell_type": "code",
   "execution_count": 98,
   "id": "43d26e6f-40e5-494b-8d7c-dffe2bae7798",
   "metadata": {
    "tags": []
   },
   "outputs": [
    {
     "data": {
      "text/plain": [
       "sr      0\n",
       "rr      0\n",
       "t       0\n",
       "lm      0\n",
       "bo      0\n",
       "rem     0\n",
       "sr.1    0\n",
       "hr      0\n",
       "sl      0\n",
       "dtype: int64"
      ]
     },
     "execution_count": 98,
     "metadata": {},
     "output_type": "execute_result"
    }
   ],
   "source": [
    "df = pd.read_csv(\"SaYoPillow.csv\")\n",
    "df.isnull().sum() #Tidak ada yang Null"
   ]
  },
  {
   "cell_type": "code",
   "execution_count": 99,
   "id": "34844d66-a12c-4f7f-a8d2-ddc20c59a5af",
   "metadata": {},
   "outputs": [
    {
     "data": {
      "text/html": [
       "<div>\n",
       "<style scoped>\n",
       "    .dataframe tbody tr th:only-of-type {\n",
       "        vertical-align: middle;\n",
       "    }\n",
       "\n",
       "    .dataframe tbody tr th {\n",
       "        vertical-align: top;\n",
       "    }\n",
       "\n",
       "    .dataframe thead th {\n",
       "        text-align: right;\n",
       "    }\n",
       "</style>\n",
       "<table border=\"1\" class=\"dataframe\">\n",
       "  <thead>\n",
       "    <tr style=\"text-align: right;\">\n",
       "      <th></th>\n",
       "      <th>TingkatMendengkur</th>\n",
       "      <th>TingkatPernapasan</th>\n",
       "      <th>SuhuTubuh</th>\n",
       "      <th>GerakanKaki</th>\n",
       "      <th>OksigenDarah</th>\n",
       "      <th>GerakanMata</th>\n",
       "      <th>JamTidur</th>\n",
       "      <th>DetakJantung</th>\n",
       "      <th>TingkatStres</th>\n",
       "    </tr>\n",
       "  </thead>\n",
       "  <tbody>\n",
       "    <tr>\n",
       "      <th>0</th>\n",
       "      <td>93.80</td>\n",
       "      <td>25.680</td>\n",
       "      <td>91.840</td>\n",
       "      <td>16.600</td>\n",
       "      <td>89.840</td>\n",
       "      <td>99.60</td>\n",
       "      <td>1.840</td>\n",
       "      <td>74.20</td>\n",
       "      <td>Medium High</td>\n",
       "    </tr>\n",
       "    <tr>\n",
       "      <th>1</th>\n",
       "      <td>91.64</td>\n",
       "      <td>25.104</td>\n",
       "      <td>91.552</td>\n",
       "      <td>15.880</td>\n",
       "      <td>89.552</td>\n",
       "      <td>98.88</td>\n",
       "      <td>1.552</td>\n",
       "      <td>72.76</td>\n",
       "      <td>Medium High</td>\n",
       "    </tr>\n",
       "    <tr>\n",
       "      <th>2</th>\n",
       "      <td>60.00</td>\n",
       "      <td>20.000</td>\n",
       "      <td>96.000</td>\n",
       "      <td>10.000</td>\n",
       "      <td>95.000</td>\n",
       "      <td>85.00</td>\n",
       "      <td>7.000</td>\n",
       "      <td>60.00</td>\n",
       "      <td>Medium Low</td>\n",
       "    </tr>\n",
       "    <tr>\n",
       "      <th>3</th>\n",
       "      <td>85.76</td>\n",
       "      <td>23.536</td>\n",
       "      <td>90.768</td>\n",
       "      <td>13.920</td>\n",
       "      <td>88.768</td>\n",
       "      <td>96.92</td>\n",
       "      <td>0.768</td>\n",
       "      <td>68.84</td>\n",
       "      <td>Medium High</td>\n",
       "    </tr>\n",
       "    <tr>\n",
       "      <th>4</th>\n",
       "      <td>48.12</td>\n",
       "      <td>17.248</td>\n",
       "      <td>97.872</td>\n",
       "      <td>6.496</td>\n",
       "      <td>96.248</td>\n",
       "      <td>72.48</td>\n",
       "      <td>8.248</td>\n",
       "      <td>53.12</td>\n",
       "      <td>Low</td>\n",
       "    </tr>\n",
       "  </tbody>\n",
       "</table>\n",
       "</div>"
      ],
      "text/plain": [
       "   TingkatMendengkur  TingkatPernapasan  SuhuTubuh  GerakanKaki  OksigenDarah  \\\n",
       "0              93.80             25.680     91.840       16.600        89.840   \n",
       "1              91.64             25.104     91.552       15.880        89.552   \n",
       "2              60.00             20.000     96.000       10.000        95.000   \n",
       "3              85.76             23.536     90.768       13.920        88.768   \n",
       "4              48.12             17.248     97.872        6.496        96.248   \n",
       "\n",
       "   GerakanMata  JamTidur  DetakJantung TingkatStres  \n",
       "0        99.60     1.840         74.20  Medium High  \n",
       "1        98.88     1.552         72.76  Medium High  \n",
       "2        85.00     7.000         60.00   Medium Low  \n",
       "3        96.92     0.768         68.84  Medium High  \n",
       "4        72.48     8.248         53.12          Low  "
      ]
     },
     "execution_count": 99,
     "metadata": {},
     "output_type": "execute_result"
    }
   ],
   "source": [
    "# snoring range of the user, respiration rate, body temperature, limb movement rate, \n",
    "# blood oxygen levels, eye movement, number of hours of sleep, heart rate and Stress Levels\n",
    "df.columns = [\"TingkatMendengkur\", \"TingkatPernapasan\", \"SuhuTubuh\", \"GerakanKaki\", \n",
    "\"OksigenDarah\", \"GerakanMata\", \"JamTidur\", \"DetakJantung\", \"TingkatStres\"]\n",
    "\n",
    "# 0- low/normal, 1 – medium low, 2- medium, 3-medium high, 4 -high\n",
    "df[\"TingkatStres\"].replace([0,1,2,3,4], [\"Low\",\"Medium Low\",\"Medium\",\"Medium High\",\"High\"], inplace=True)\n",
    "\n",
    "df.head()"
   ]
  },
  {
   "cell_type": "code",
   "execution_count": 100,
   "id": "9017445c",
   "metadata": {},
   "outputs": [],
   "source": [
    "X = df.drop(\"TingkatStres\", axis=\"columns\")\n",
    "Y = df[\"TingkatStres\"]"
   ]
  },
  {
   "cell_type": "code",
   "execution_count": 101,
   "id": "345e3159",
   "metadata": {},
   "outputs": [
    {
     "data": {
      "text/plain": [
       "((496, 8), (124, 8))"
      ]
     },
     "execution_count": 101,
     "metadata": {},
     "output_type": "execute_result"
    }
   ],
   "source": [
    "X_train, X_test, Y_train, Y_test = train_test_split(X, Y, train_size=0.8, random_state=0)\n",
    "X_train.shape, X_test.shape # train:496 test:124"
   ]
  },
  {
   "cell_type": "code",
   "execution_count": 102,
   "id": "78f9d8e0",
   "metadata": {},
   "outputs": [],
   "source": [
    "# X_test.describe()\n",
    "scaler = MinMaxScaler()\n",
    "X_train = scaler.fit_transform(X_train)\n",
    "X_test = scaler.fit_transform(X_test)"
   ]
  },
  {
   "cell_type": "markdown",
   "id": "4ef38b4a",
   "metadata": {},
   "source": [
    "# Membuat model ML menggunakan ANN"
   ]
  },
  {
   "cell_type": "code",
   "execution_count": null,
   "id": "65c47c30",
   "metadata": {},
   "outputs": [],
   "source": [
    "ann = Sequential()\n",
    "# ann.add(Dense())\n",
    "# ann.add(Dense())"
   ]
  }
 ],
 "metadata": {
  "kernelspec": {
   "display_name": "Python 3.10.0 64-bit",
   "language": "python",
   "name": "python3"
  },
  "language_info": {
   "codemirror_mode": {
    "name": "ipython",
    "version": 3
   },
   "file_extension": ".py",
   "mimetype": "text/x-python",
   "name": "python",
   "nbconvert_exporter": "python",
   "pygments_lexer": "ipython3",
   "version": "3.10.0"
  },
  "vscode": {
   "interpreter": {
    "hash": "1131cbe801fc8756284ff054e88c57f5fe2278f8fc2e3461aa8d8b4ca5839a07"
   }
  }
 },
 "nbformat": 4,
 "nbformat_minor": 5
}
