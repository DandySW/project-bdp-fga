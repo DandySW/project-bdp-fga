{
 "cells": [
  {
   "cell_type": "markdown",
   "id": "3615fc43",
   "metadata": {},
   "source": [
    "# Pre-Processing Dataset"
   ]
  },
  {
   "cell_type": "code",
   "execution_count": 1,
   "id": "a3b833bb-a093-4ddb-a5a4-7798846c04da",
   "metadata": {},
   "outputs": [],
   "source": [
    "# pandas, min max scaler, train test split, random forest, confusion matrix, accuracy\n",
    "import pandas as pd\n",
    "from sklearn.preprocessing import MinMaxScaler\n",
    "from sklearn.model_selection import train_test_split\n",
    "from sklearn.ensemble import RandomForestClassifier\n",
    "from sklearn.metrics import accuracy_score, confusion_matrix"
   ]
  },
  {
   "cell_type": "code",
   "execution_count": 2,
   "id": "43d26e6f-40e5-494b-8d7c-dffe2bae7798",
   "metadata": {
    "tags": []
   },
   "outputs": [
    {
     "data": {
      "text/html": [
       "<div>\n",
       "<style scoped>\n",
       "    .dataframe tbody tr th:only-of-type {\n",
       "        vertical-align: middle;\n",
       "    }\n",
       "\n",
       "    .dataframe tbody tr th {\n",
       "        vertical-align: top;\n",
       "    }\n",
       "\n",
       "    .dataframe thead th {\n",
       "        text-align: right;\n",
       "    }\n",
       "</style>\n",
       "<table border=\"1\" class=\"dataframe\">\n",
       "  <thead>\n",
       "    <tr style=\"text-align: right;\">\n",
       "      <th></th>\n",
       "      <th>snr</th>\n",
       "      <th>rr</th>\n",
       "      <th>t</th>\n",
       "      <th>lm</th>\n",
       "      <th>bo</th>\n",
       "      <th>rem</th>\n",
       "      <th>slr</th>\n",
       "      <th>hr</th>\n",
       "      <th>sl</th>\n",
       "    </tr>\n",
       "  </thead>\n",
       "  <tbody>\n",
       "    <tr>\n",
       "      <th>0</th>\n",
       "      <td>93.80</td>\n",
       "      <td>25.680</td>\n",
       "      <td>91.840</td>\n",
       "      <td>16.600</td>\n",
       "      <td>89.840</td>\n",
       "      <td>99.60</td>\n",
       "      <td>1.840</td>\n",
       "      <td>74.20</td>\n",
       "      <td>3</td>\n",
       "    </tr>\n",
       "    <tr>\n",
       "      <th>1</th>\n",
       "      <td>91.64</td>\n",
       "      <td>25.104</td>\n",
       "      <td>91.552</td>\n",
       "      <td>15.880</td>\n",
       "      <td>89.552</td>\n",
       "      <td>98.88</td>\n",
       "      <td>1.552</td>\n",
       "      <td>72.76</td>\n",
       "      <td>3</td>\n",
       "    </tr>\n",
       "    <tr>\n",
       "      <th>2</th>\n",
       "      <td>60.00</td>\n",
       "      <td>20.000</td>\n",
       "      <td>96.000</td>\n",
       "      <td>10.000</td>\n",
       "      <td>95.000</td>\n",
       "      <td>85.00</td>\n",
       "      <td>7.000</td>\n",
       "      <td>60.00</td>\n",
       "      <td>1</td>\n",
       "    </tr>\n",
       "    <tr>\n",
       "      <th>3</th>\n",
       "      <td>85.76</td>\n",
       "      <td>23.536</td>\n",
       "      <td>90.768</td>\n",
       "      <td>13.920</td>\n",
       "      <td>88.768</td>\n",
       "      <td>96.92</td>\n",
       "      <td>0.768</td>\n",
       "      <td>68.84</td>\n",
       "      <td>3</td>\n",
       "    </tr>\n",
       "    <tr>\n",
       "      <th>4</th>\n",
       "      <td>48.12</td>\n",
       "      <td>17.248</td>\n",
       "      <td>97.872</td>\n",
       "      <td>6.496</td>\n",
       "      <td>96.248</td>\n",
       "      <td>72.48</td>\n",
       "      <td>8.248</td>\n",
       "      <td>53.12</td>\n",
       "      <td>0</td>\n",
       "    </tr>\n",
       "  </tbody>\n",
       "</table>\n",
       "</div>"
      ],
      "text/plain": [
       "     snr      rr       t      lm      bo    rem    slr     hr  sl\n",
       "0  93.80  25.680  91.840  16.600  89.840  99.60  1.840  74.20   3\n",
       "1  91.64  25.104  91.552  15.880  89.552  98.88  1.552  72.76   3\n",
       "2  60.00  20.000  96.000  10.000  95.000  85.00  7.000  60.00   1\n",
       "3  85.76  23.536  90.768  13.920  88.768  96.92  0.768  68.84   3\n",
       "4  48.12  17.248  97.872   6.496  96.248  72.48  8.248  53.12   0"
      ]
     },
     "execution_count": 2,
     "metadata": {},
     "output_type": "execute_result"
    }
   ],
   "source": [
    "df = pd.read_csv(\"Application/SaYoPillow.csv\")\n",
    "df.head()"
   ]
  },
  {
   "cell_type": "code",
   "execution_count": 3,
   "id": "85a8cb5b",
   "metadata": {},
   "outputs": [
    {
     "data": {
      "text/plain": [
       "snr    0\n",
       "rr     0\n",
       "t      0\n",
       "lm     0\n",
       "bo     0\n",
       "rem    0\n",
       "slr    0\n",
       "hr     0\n",
       "sl     0\n",
       "dtype: int64"
      ]
     },
     "execution_count": 3,
     "metadata": {},
     "output_type": "execute_result"
    }
   ],
   "source": [
    "df.isnull().sum() #Tidak ada yang Null"
   ]
  },
  {
   "cell_type": "code",
   "execution_count": 4,
   "id": "14b84f2f",
   "metadata": {},
   "outputs": [
    {
     "data": {
      "text/plain": [
       "0      False\n",
       "1      False\n",
       "2      False\n",
       "3      False\n",
       "4      False\n",
       "       ...  \n",
       "615    False\n",
       "616    False\n",
       "617    False\n",
       "618    False\n",
       "619    False\n",
       "Length: 620, dtype: bool"
      ]
     },
     "execution_count": 4,
     "metadata": {},
     "output_type": "execute_result"
    }
   ],
   "source": [
    "df.duplicated()"
   ]
  },
  {
   "cell_type": "code",
   "execution_count": 5,
   "id": "34844d66-a12c-4f7f-a8d2-ddc20c59a5af",
   "metadata": {},
   "outputs": [
    {
     "data": {
      "text/html": [
       "<div>\n",
       "<style scoped>\n",
       "    .dataframe tbody tr th:only-of-type {\n",
       "        vertical-align: middle;\n",
       "    }\n",
       "\n",
       "    .dataframe tbody tr th {\n",
       "        vertical-align: top;\n",
       "    }\n",
       "\n",
       "    .dataframe thead th {\n",
       "        text-align: right;\n",
       "    }\n",
       "</style>\n",
       "<table border=\"1\" class=\"dataframe\">\n",
       "  <thead>\n",
       "    <tr style=\"text-align: right;\">\n",
       "      <th></th>\n",
       "      <th>TingkatMendengkur</th>\n",
       "      <th>TingkatPernapasan</th>\n",
       "      <th>SuhuTubuh</th>\n",
       "      <th>GerakanKaki</th>\n",
       "      <th>OksigenDarah</th>\n",
       "      <th>GerakanMata</th>\n",
       "      <th>JamTidur</th>\n",
       "      <th>DetakJantung</th>\n",
       "      <th>TingkatStres</th>\n",
       "    </tr>\n",
       "  </thead>\n",
       "  <tbody>\n",
       "    <tr>\n",
       "      <th>0</th>\n",
       "      <td>93.80</td>\n",
       "      <td>25.680</td>\n",
       "      <td>91.840</td>\n",
       "      <td>16.600</td>\n",
       "      <td>89.840</td>\n",
       "      <td>99.60</td>\n",
       "      <td>1.840</td>\n",
       "      <td>74.20</td>\n",
       "      <td>3</td>\n",
       "    </tr>\n",
       "    <tr>\n",
       "      <th>1</th>\n",
       "      <td>91.64</td>\n",
       "      <td>25.104</td>\n",
       "      <td>91.552</td>\n",
       "      <td>15.880</td>\n",
       "      <td>89.552</td>\n",
       "      <td>98.88</td>\n",
       "      <td>1.552</td>\n",
       "      <td>72.76</td>\n",
       "      <td>3</td>\n",
       "    </tr>\n",
       "    <tr>\n",
       "      <th>2</th>\n",
       "      <td>60.00</td>\n",
       "      <td>20.000</td>\n",
       "      <td>96.000</td>\n",
       "      <td>10.000</td>\n",
       "      <td>95.000</td>\n",
       "      <td>85.00</td>\n",
       "      <td>7.000</td>\n",
       "      <td>60.00</td>\n",
       "      <td>1</td>\n",
       "    </tr>\n",
       "    <tr>\n",
       "      <th>3</th>\n",
       "      <td>85.76</td>\n",
       "      <td>23.536</td>\n",
       "      <td>90.768</td>\n",
       "      <td>13.920</td>\n",
       "      <td>88.768</td>\n",
       "      <td>96.92</td>\n",
       "      <td>0.768</td>\n",
       "      <td>68.84</td>\n",
       "      <td>3</td>\n",
       "    </tr>\n",
       "    <tr>\n",
       "      <th>4</th>\n",
       "      <td>48.12</td>\n",
       "      <td>17.248</td>\n",
       "      <td>97.872</td>\n",
       "      <td>6.496</td>\n",
       "      <td>96.248</td>\n",
       "      <td>72.48</td>\n",
       "      <td>8.248</td>\n",
       "      <td>53.12</td>\n",
       "      <td>0</td>\n",
       "    </tr>\n",
       "  </tbody>\n",
       "</table>\n",
       "</div>"
      ],
      "text/plain": [
       "   TingkatMendengkur  TingkatPernapasan  SuhuTubuh  GerakanKaki  OksigenDarah  \\\n",
       "0              93.80             25.680     91.840       16.600        89.840   \n",
       "1              91.64             25.104     91.552       15.880        89.552   \n",
       "2              60.00             20.000     96.000       10.000        95.000   \n",
       "3              85.76             23.536     90.768       13.920        88.768   \n",
       "4              48.12             17.248     97.872        6.496        96.248   \n",
       "\n",
       "   GerakanMata  JamTidur  DetakJantung  TingkatStres  \n",
       "0        99.60     1.840         74.20             3  \n",
       "1        98.88     1.552         72.76             3  \n",
       "2        85.00     7.000         60.00             1  \n",
       "3        96.92     0.768         68.84             3  \n",
       "4        72.48     8.248         53.12             0  "
      ]
     },
     "execution_count": 5,
     "metadata": {},
     "output_type": "execute_result"
    }
   ],
   "source": [
    "# snr: snoring rate; rr: respiration rate; t: body temperature; lm: limb movement; bo: blood oxygen;\n",
    "# rem: eye movement; slr: sleeping hours; hr: heart rate; sl: stress level\n",
    "# 0-low, 1–medium low, 2-medium, 3-medium high, 4-high\n",
    "df.columns = [\"TingkatMendengkur\", \"TingkatPernapasan\", \"SuhuTubuh\", \"GerakanKaki\", \n",
    "\"OksigenDarah\", \"GerakanMata\", \"JamTidur\", \"DetakJantung\", \"TingkatStres\"]\n",
    "df.head()"
   ]
  },
  {
   "cell_type": "code",
   "execution_count": 6,
   "id": "9017445c",
   "metadata": {},
   "outputs": [],
   "source": [
    "X = df.drop(\"TingkatStres\", axis=\"columns\")\n",
    "Y = df[\"TingkatStres\"]"
   ]
  },
  {
   "cell_type": "code",
   "execution_count": 7,
   "id": "33eb149b",
   "metadata": {},
   "outputs": [],
   "source": [
    "Xmin = X.min()\n",
    "Xmax = X.max()"
   ]
  },
  {
   "cell_type": "code",
   "execution_count": 8,
   "id": "78f9d8e0",
   "metadata": {},
   "outputs": [
    {
     "data": {
      "text/plain": [
       "array([[0.88727273, 0.69142857, 0.48857143, ..., 0.88      , 0.20444444,\n",
       "        0.69142857],\n",
       "       [0.848     , 0.65028571, 0.468     , ..., 0.864     , 0.17244444,\n",
       "        0.65028571],\n",
       "       [0.27272727, 0.28571429, 0.78571429, ..., 0.55555556, 0.77777778,\n",
       "        0.28571429],\n",
       "       ...,\n",
       "       [0.95461818, 0.82171429, 0.13428571, ..., 0.93066667, 0.        ,\n",
       "        0.82171429],\n",
       "       [0.248     , 0.26628571, 0.76628571, ..., 0.54044444, 0.74755556,\n",
       "        0.26628571],\n",
       "       [0.52581818, 0.38514286, 0.59942857, ..., 0.71022222, 0.45422222,\n",
       "        0.38514286]])"
      ]
     },
     "execution_count": 8,
     "metadata": {},
     "output_type": "execute_result"
    }
   ],
   "source": [
    "X = MinMaxScaler().fit_transform(X)\n",
    "X"
   ]
  },
  {
   "cell_type": "code",
   "execution_count": 9,
   "id": "345e3159",
   "metadata": {},
   "outputs": [
    {
     "data": {
      "text/plain": [
       "((496, 8), (124, 8))"
      ]
     },
     "execution_count": 9,
     "metadata": {},
     "output_type": "execute_result"
    }
   ],
   "source": [
    "X_train, X_test, Y_train, Y_test = train_test_split(X, Y, train_size=0.8, random_state=33)\n",
    "X_train.shape, X_test.shape # train:496 test:124"
   ]
  },
  {
   "cell_type": "markdown",
   "id": "4ef38b4a",
   "metadata": {},
   "source": [
    "# Membuat Model Random Forest"
   ]
  },
  {
   "cell_type": "code",
   "execution_count": 10,
   "id": "65c47c30",
   "metadata": {},
   "outputs": [],
   "source": [
    "rfc = RandomForestClassifier(n_estimators=99).fit(X_train, Y_train)"
   ]
  },
  {
   "cell_type": "code",
   "execution_count": 11,
   "id": "bba11ae1",
   "metadata": {},
   "outputs": [
    {
     "data": {
      "text/plain": [
       "array([1, 0, 2, 3, 1, 0, 0, 3, 3, 0, 0, 1, 2, 4, 1, 4, 1, 0, 0, 4, 2, 0,\n",
       "       2, 1, 2, 2, 1, 2, 1, 0, 2, 1, 2, 4, 0, 2, 1, 1, 4, 4, 3, 1, 1, 3,\n",
       "       4, 0, 0, 2, 0, 4, 3, 1, 0, 3, 2, 4, 4, 4, 4, 0, 2, 2, 0, 2, 0, 2,\n",
       "       2, 4, 1, 0, 3, 1, 1, 0, 0, 3, 0, 3, 1, 4, 1, 3, 3, 3, 4, 0, 4, 0,\n",
       "       1, 4, 3, 0, 1, 2, 0, 4, 4, 3, 3, 0, 0, 4, 1, 0, 4, 3, 4, 1, 2, 1,\n",
       "       0, 3, 3, 2, 0, 0, 2, 1, 0, 2, 4, 3, 2, 3], dtype=int64)"
      ]
     },
     "execution_count": 11,
     "metadata": {},
     "output_type": "execute_result"
    }
   ],
   "source": [
    "prediction = rfc.predict(X_test)\n",
    "prediction"
   ]
  },
  {
   "cell_type": "code",
   "execution_count": 12,
   "id": "9cb84df8",
   "metadata": {},
   "outputs": [
    {
     "data": {
      "text/plain": [
       "array([[32,  0,  0,  0,  0],\n",
       "       [ 0, 25,  0,  0,  0],\n",
       "       [ 0,  0, 23,  0,  0],\n",
       "       [ 0,  0,  0, 21,  0],\n",
       "       [ 0,  0,  0,  0, 23]], dtype=int64)"
      ]
     },
     "execution_count": 12,
     "metadata": {},
     "output_type": "execute_result"
    }
   ],
   "source": [
    "confusion_matrix = confusion_matrix(Y_test, prediction)\n",
    "confusion_matrix"
   ]
  },
  {
   "cell_type": "code",
   "execution_count": 13,
   "id": "293f5cb9",
   "metadata": {},
   "outputs": [
    {
     "data": {
      "text/plain": [
       "1.0"
      ]
     },
     "execution_count": 13,
     "metadata": {},
     "output_type": "execute_result"
    }
   ],
   "source": [
    "accuracy_score = accuracy_score(Y_test, prediction)\n",
    "accuracy_score"
   ]
  }
 ],
 "metadata": {
  "kernelspec": {
   "display_name": "Python 3.10.0 64-bit",
   "language": "python",
   "name": "python3"
  },
  "language_info": {
   "codemirror_mode": {
    "name": "ipython",
    "version": 3
   },
   "file_extension": ".py",
   "mimetype": "text/x-python",
   "name": "python",
   "nbconvert_exporter": "python",
   "pygments_lexer": "ipython3",
   "version": "3.10.0"
  },
  "vscode": {
   "interpreter": {
    "hash": "1131cbe801fc8756284ff054e88c57f5fe2278f8fc2e3461aa8d8b4ca5839a07"
   }
  }
 },
 "nbformat": 4,
 "nbformat_minor": 5
}
